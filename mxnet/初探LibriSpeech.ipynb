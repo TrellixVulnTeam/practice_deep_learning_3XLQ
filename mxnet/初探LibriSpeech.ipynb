{
 "cells": [
  {
   "cell_type": "markdown",
   "metadata": {},
   "source": [
    "### LibriVox\n",
    "[LibriVox](https://librivox.org)\n",
    "LibreVox Free domai audio book\n",
    "\n",
    "包含了一大堆免费音频录音"
   ]
  },
  {
   "cell_type": "markdown",
   "metadata": {},
   "source": [
    "### OpenSLR\n",
    "[OpenSLR](http://www.openslr.org/resources.php) 中有对LibriVox做了一些整理，可以提供下载\n",
    "\n",
    "---"
   ]
  },
  {
   "cell_type": "markdown",
   "metadata": {},
   "source": [
    "# Speech Recognition Example from mxnet\n",
    "[speech recognition example](https://github.com/apache/incubator-mxnet/tree/master/example/speech_recognition)\n",
    "\n",
    "Input data are described in a JSON file Libri_sample.json as followed.\n",
    "\n",
    "{\"duration\": 2.9450625, \"text\": \"and sharing her house which was near by\", \"key\": \"./Libri_sample/3830-12531-0030.wav\"}\n",
    "{\"duration\": 3.94, \"text\": \"we were able to impart the information that we wanted\", \"key\": \"./Libri_sample/3830-12529-0005.wav\"}\n",
    "\n",
    "So we need to find a way to get duration from .flac file"
   ]
  },
  {
   "cell_type": "markdown",
   "metadata": {},
   "source": [
    "#### following code is saved in flac_cal_duration.py"
   ]
  },
  {
   "cell_type": "markdown",
   "metadata": {},
   "source": [
    "import struct\n",
    "\n",
    "def bytes_to_int(bytes: list) -> int:\n",
    "        result = 0\n",
    "        for byte in bytes:\n",
    "            result = (result << 8) + byte\n",
    "        return result\n",
    "\n",
    "\n",
    "def get_flac_duration(filename: str) -> float:\n",
    "    \"\"\"\n",
    "    Returns the duration of a FLAC file in seconds\n",
    "    https://xiph.org/flac/format.html\n",
    "    \"\"\"\n",
    "    with open(filename, 'rb') as f:\n",
    "        if f.read(4) != b'fLaC':\n",
    "            raise ValueError('File is not a flac file')\n",
    "        header = f.read(4)\n",
    "        while len(header):\n",
    "            meta = struct.unpack('4B', header)  # 4 unsigned chars\n",
    "            block_type = meta[0] & 0x7f  # 0111 1111\n",
    "            size = bytes_to_int(header[1:4])\n",
    "\n",
    "            if block_type == 0:  # Metadata Streaminfo\n",
    "                streaminfo_header = f.read(size)\n",
    "                unpacked = struct.unpack('2H3p3p8B16p', streaminfo_header)\n",
    "                \"\"\"\n",
    "                https://xiph.org/flac/format.html#metadata_block_streaminfo\n",
    "                16 (unsigned short)  | The minimum block size (in samples)\n",
    "                                       used in the stream.\n",
    "                16 (unsigned short)  | The maximum block size (in samples)\n",
    "                                       used in the stream. (Minimum blocksize\n",
    "                                       == maximum blocksize) implies a\n",
    "                                       fixed-blocksize stream.\n",
    "                24 (3 char[])        | The minimum frame size (in bytes) used\n",
    "                                       in the stream. May be 0 to imply the\n",
    "                                       value is not known.\n",
    "                24 (3 char[])        | The maximum frame size (in bytes) used\n",
    "                                       in the stream. May be 0 to imply the\n",
    "                                       value is not known.\n",
    "                20 (8 unsigned char) | Sample rate in Hz. Though 20 bits are\n",
    "                                       available, the maximum sample rate is\n",
    "                                       limited by the structure of frame\n",
    "                                       headers to 655350Hz. Also, a value of 0\n",
    "                                       is invalid.\n",
    "                3  (^)               | (number of channels)-1. FLAC supports\n",
    "                                       from 1 to 8 channels\n",
    "                5  (^)               | (bits per sample)-1. FLAC supports from\n",
    "                                       4 to 32 bits per sample. Currently the\n",
    "                                       reference encoder and decoders only\n",
    "                                       support up to 24 bits per sample.\n",
    "                36 (^)               | Total samples in stream. 'Samples'\n",
    "                                       means inter-channel sample, i.e. one\n",
    "                                       second of 44.1Khz audio will have 44100\n",
    "                                       samples regardless of the number of\n",
    "                                       channels. A value of zero here means\n",
    "                                       the number of total samples is unknown.\n",
    "                128 (16 char[])      | MD5 signature of the unencoded audio\n",
    "                                       data. This allows the decoder to\n",
    "                                       determine if an error exists in the\n",
    "                                       audio data even when the error does not\n",
    "                                       result in an invalid bitstream.\n",
    "                \"\"\"\n",
    "\n",
    "                samplerate = bytes_to_int(unpacked[4:7]) >> 4\n",
    "                sample_bytes = [(unpacked[7] & 0x0F)] + list(unpacked[8:12])\n",
    "                total_samples = bytes_to_int(sample_bytes)\n",
    "                duration = float(total_samples) / samplerate\n",
    "\n",
    "                return duration\n",
    "            header = f.read(4)\n",
    "\n"
   ]
  },
  {
   "cell_type": "code",
   "execution_count": null,
   "metadata": {},
   "outputs": [],
   "source": [
    "from flac_cal_duration import get_flac_duration,get_duration_corpus"
   ]
  },
  {
   "cell_type": "code",
   "execution_count": null,
   "metadata": {},
   "outputs": [],
   "source": [
    "path=!pwd\n",
    "\n",
    "path=path.get_spstr()+r'/LibriSpeech/dev-clean/84/121123'\n",
    "print(path)"
   ]
  },
  {
   "cell_type": "markdown",
   "metadata": {},
   "source": [
    "#### following function: get_duration_corpus is saved in flac_cal_duration.py"
   ]
  },
  {
   "cell_type": "markdown",
   "metadata": {},
   "source": [
    "def get_duration_corpus(path):\n",
    "    whole_list=listdir(path)\n",
    "    #whole_list=!ls $path\n",
    "    flac_list=[item for item in whole_list if item[-4:]=='flac']\n",
    "    corpus_list=[item for item in whole_list if item[-4:]!='flac']\n",
    "    print(flac_list)\n",
    "    print(corpus_list)\n",
    "    \n",
    "    corpus_dict={}\n",
    "    flac_dict={}\n",
    "    key_dict={}\n",
    "    \n",
    "    for flac in flac_list:\n",
    "        duration=get_flac_duration(path+'/'+flac)\n",
    "        key=flac[:-5]\n",
    "        flac_dict[key]=duration\n",
    "        key_dict[key]=path+'/'+flac\n",
    "        \n",
    "    with open(path+'/'+corpus_list[0]) as f:\n",
    "        for line in f:\n",
    "            items=line.split(' ')\n",
    "            key=items[0]\n",
    "            value=' '.join(items[1:]).strip('\\n')\n",
    "            corpus_dict[key]=value    \n",
    "    \n",
    "    return flac_dict,corpus_dict,key_dict\n",
    "    "
   ]
  },
  {
   "cell_type": "markdown",
   "metadata": {},
   "source": [
    "#### now it is to figure out how to route into all sub-directory"
   ]
  },
  {
   "cell_type": "code",
   "execution_count": null,
   "metadata": {},
   "outputs": [],
   "source": [
    "from os import listdir\n",
    "import json"
   ]
  },
  {
   "cell_type": "code",
   "execution_count": null,
   "metadata": {},
   "outputs": [],
   "source": [
    "flac_dict={}\n",
    "corpus_dict={}\n",
    "key_dict={}"
   ]
  },
  {
   "cell_type": "code",
   "execution_count": null,
   "metadata": {},
   "outputs": [],
   "source": [
    "with open('LibriSpeech_directories.txt') as f:\n",
    "    for line in f:\n",
    "        if line[0] != '#':\n",
    "            path_tmp=line.strip('\\n')\n",
    "            print(\"processing %s\"%path_tmp)\n",
    "            tmp_flac,tmp_corpus,tmp_key=get_duration_corpus(path_tmp)\n",
    "            \n",
    "            flac_dict.update(tmp_flac)\n",
    "            corpus_dict.update(tmp_corpus)\n",
    "            key_dict.update(tmp_key)"
   ]
  },
  {
   "cell_type": "code",
   "execution_count": null,
   "metadata": {},
   "outputs": [],
   "source": [
    "with open('LibriSpeech.json', 'w') as f:\n",
    "    for key in flac_dict.keys():\n",
    "        data={'duration':flac_dict[key],'text':corpus_dict[key],'key':key_dict[key]}\n",
    "        json.dump(data,f)"
   ]
  },
  {
   "cell_type": "code",
   "execution_count": null,
   "metadata": {},
   "outputs": [],
   "source": []
  }
 ],
 "metadata": {
  "kernelspec": {
   "display_name": "Python 3",
   "language": "python",
   "name": "python3"
  },
  "language_info": {
   "codemirror_mode": {
    "name": "ipython",
    "version": 3
   },
   "file_extension": ".py",
   "mimetype": "text/x-python",
   "name": "python",
   "nbconvert_exporter": "python",
   "pygments_lexer": "ipython3",
   "version": "3.7.3"
  }
 },
 "nbformat": 4,
 "nbformat_minor": 2
}
